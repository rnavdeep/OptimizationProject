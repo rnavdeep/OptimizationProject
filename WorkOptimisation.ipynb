{
 "cells": [
  {
   "cell_type": "code",
   "execution_count": 363,
   "id": "d53a6823",
   "metadata": {},
   "outputs": [],
   "source": [
    "import pandas as pd\n",
    "import numpy\n",
    "from pulp import *"
   ]
  },
  {
   "cell_type": "markdown",
   "id": "3864bc88",
   "metadata": {},
   "source": [
    "# Linear Programming Model"
   ]
  },
  {
   "cell_type": "code",
   "execution_count": 364,
   "id": "b69b6f67",
   "metadata": {},
   "outputs": [],
   "source": [
    "prob=LpProblem(\"Minimize\",LpMinimize)"
   ]
  },
  {
   "cell_type": "code",
   "execution_count": 365,
   "id": "3c37af95",
   "metadata": {},
   "outputs": [],
   "source": [
    "#time taken to finish each work\n",
    "w1=LpVariable(\"w1\",lowBound=1)\n",
    "w2=LpVariable(\"w2\",lowBound=1)\n",
    "w3=LpVariable(\"w3\",lowBound=1)\n",
    "w4=LpVariable(\"w4\",lowBound=1)\n",
    "w5=LpVariable(\"w5\",lowBound=1)\n",
    "w6=LpVariable(\"w6\",lowBound=1)\n",
    "w7=LpVariable(\"w7\",lowBound=1)\n",
    "w8=LpVariable(\"w8\",lowBound=1)\n",
    "w9=LpVariable(\"w9\",lowBound=1)\n",
    "w10=LpVariable(\"w10\",lowBound=1)\n",
    "w11=LpVariable(\"w11\",lowBound=1)\n",
    "w12=LpVariable(\"w12\",lowBound=1)\n",
    "w13=LpVariable(\"w13\",lowBound=1)\n",
    "w14=LpVariable(\"w14\",lowBound=1)\n",
    "w15=LpVariable(\"w15\",lowBound=1)"
   ]
  },
  {
   "cell_type": "code",
   "execution_count": 366,
   "id": "6fcc14d9",
   "metadata": {},
   "outputs": [],
   "source": [
    "#objective function is find minimum total time required to finish each work\n",
    "prob+=(w1+w2+w3+w4+w5+w6+w7+w8+w9+w10+w11+w12+w13+w14+w15)"
   ]
  },
  {
   "cell_type": "raw",
   "id": "91213a8d",
   "metadata": {},
   "source": [
    "# contraints\n",
    "1) Each machine must take some break if task is assigned to it consecutively"
   ]
  },
  {
   "cell_type": "code",
   "execution_count": 367,
   "id": "90434e65",
   "metadata": {},
   "outputs": [],
   "source": [
    "#prob.solve()"
   ]
  },
  {
   "cell_type": "markdown",
   "id": "6388de47",
   "metadata": {},
   "source": [
    "# Solution"
   ]
  },
  {
   "cell_type": "markdown",
   "id": "4d59aa37",
   "metadata": {},
   "source": [
    "## Data CleanUp:"
   ]
  },
  {
   "cell_type": "code",
   "execution_count": 368,
   "id": "7b51e6fe",
   "metadata": {},
   "outputs": [],
   "source": [
    "def data(filename):\n",
    "    df=pd.read_csv(filename)\n",
    "    df=df.drop(columns=['Unnamed: 0'])\n",
    "    df=df.rename(columns={\"breaks between works\": \"breaks\"}, errors=\"raise\")\n",
    "    breaks = df[\"breaks\"].to_numpy()\n",
    "    df=df.drop(columns=['breaks'])\n",
    "    return df, breaks\n"
   ]
  },
  {
   "cell_type": "markdown",
   "id": "0dfeac27",
   "metadata": {},
   "source": [
    "# Heuristic Approach to Solve Linear Programming:\n",
    " This solution is built using few heurisitcs, the search space is explored to obtain the best possible answer.\n",
    "\n",
    " Each column is converted into an array, each column represents timings for each work to a specific machine.\n",
    "   The algorithm starts by assigning work in an ascending sequence, and at each step it is ensured that the timing selected is minimal from the list obtained in step given above and we try to minimize the break times by ensuring that the consecutive works are not allocated to the same machine.\n",
    "   The result is stored in a dictionary, keys being the work id and the values are the machines that a work is assigned to.\n",
    "   Once all the works in the problem statement are allocated to some machine, we have to consider the break times.\n",
    "   Loop through the allocations dictionary to check whether two consecutive works are allocated to same machines.\n",
    "   "
   ]
  },
  {
   "cell_type": "code",
   "execution_count": 369,
   "id": "12ea6d03",
   "metadata": {},
   "outputs": [],
   "source": [
    "#function to find allocation, the parameter passed is the pandas dataframe.\n",
    "def find_allocation(filename):\n",
    "    #dictionary to store the final allocation.\n",
    "    allocations={}\n",
    "    #runtime obtained from the allocations.\n",
    "    total_time=0\n",
    "    #list for search space.\n",
    "    l=[]\n",
    "    #a counter for operations.\n",
    "    c=0\n",
    "    df,breaks=data(filename)\n",
    "    \n",
    "    #loop through all the works to be allocated to machines.\n",
    "    for i in df.columns:\n",
    "        c=c+1\n",
    "        #convert the timings to list\n",
    "        values = df[i].to_numpy()\n",
    "        #find the minimum timing\n",
    "        result = numpy.where(values == numpy.amin(values))\n",
    "        #add the minimum time to the result\n",
    "        total_time += numpy.amin(values)\n",
    "        #if the first or the last works from  the list\n",
    "        if(c==1 or c==len(df.columns)):\n",
    "            allocations[i] = ((result[0][0]+1))\n",
    "        #if the work is b/w last and first\n",
    "        if(l):\n",
    "            #below is the heuristic to perform allocation\n",
    "            find=l[len(l)-1]\n",
    "            work_assigned=0\n",
    "            for k in find:\n",
    "                for item in result[0]:\n",
    "                    if(k==item):\n",
    "                        continue\n",
    "                    else:\n",
    "                        work_assigned=1\n",
    "                        #work is allocated to the machine which is (item+1).\n",
    "                        allocations[i] = ((item+1))\n",
    "                        #append the result in l for further processing.\n",
    "                        l.append(result[0])\n",
    "        \n",
    "        l.append(result[0])   \n",
    "    \n",
    "    #after the allocation is found, aim is to find the break times required and add to total time.\n",
    "\n",
    "    counter=0\n",
    "    previous_machine=None\n",
    "    #loop throught the result.\n",
    "    for i in allocations:\n",
    "        #print(i)\n",
    "        #check if allocation is first allocation.\n",
    "        if(counter==0):\n",
    "            counter+=1\n",
    "            previous_machine=allocations[i]\n",
    "            allocations[i]=\"Machine: \"+str(allocations[i])\n",
    "            continue\n",
    "        #check if the allocation is similar to previous allocation, if yes, add the break time to total time.\n",
    "        if(allocations[i]==previous_machine):\n",
    "            break_time=breaks[allocations[i]]\n",
    "            total_time+=break_time\n",
    "        previous_machine=allocations[i]\n",
    "        #edit allocation to make it more readable.\n",
    "        allocations[i]=\"Machine: \"+str(allocations[i])\n",
    "        \n",
    "    return allocations,total_time\n",
    "\n"
   ]
  },
  {
   "cell_type": "code",
   "execution_count": 370,
   "id": "04a6f59a",
   "metadata": {
    "scrolled": true
   },
   "outputs": [],
   "source": [
    "#call the method to obtain result, just pass the data through.\n",
    "filename=\"WorkDistribution.csv\"\n",
    "allocations,total_time=find_allocation(filename)"
   ]
  },
  {
   "cell_type": "code",
   "execution_count": 371,
   "id": "0cea7e3d",
   "metadata": {},
   "outputs": [
    {
     "data": {
      "text/plain": [
       "246"
      ]
     },
     "execution_count": 371,
     "metadata": {},
     "output_type": "execute_result"
    }
   ],
   "source": [
    "total_time"
   ]
  },
  {
   "cell_type": "code",
   "execution_count": 372,
   "id": "20869e26",
   "metadata": {},
   "outputs": [
    {
     "data": {
      "text/plain": [
       "{'Work 1': 'Machine: 3',\n",
       " 'Work 2': 'Machine: 5',\n",
       " 'Work 3': 'Machine: 3',\n",
       " 'Work 4': 'Machine: 1',\n",
       " 'Work 5': 'Machine: 5',\n",
       " 'Work 6': 'Machine: 1',\n",
       " 'Work 7': 'Machine: 5',\n",
       " 'Work 8': 'Machine: 8',\n",
       " 'Work 9': 'Machine: 7',\n",
       " 'Work 10': 'Machine: 5',\n",
       " 'Work 11': 'Machine: 1',\n",
       " 'Work 12': 'Machine: 6',\n",
       " 'Work 13': 'Machine: 8',\n",
       " 'Work 14': 'Machine: 7',\n",
       " 'Work 15': 'Machine: 9'}"
      ]
     },
     "execution_count": 372,
     "metadata": {},
     "output_type": "execute_result"
    }
   ],
   "source": [
    "allocations"
   ]
  },
  {
   "cell_type": "code",
   "execution_count": null,
   "id": "2dd05a42",
   "metadata": {},
   "outputs": [],
   "source": []
  },
  {
   "cell_type": "code",
   "execution_count": null,
   "id": "83bbd749",
   "metadata": {},
   "outputs": [],
   "source": []
  }
 ],
 "metadata": {
  "kernelspec": {
   "display_name": "Python 3",
   "language": "python",
   "name": "python3"
  },
  "language_info": {
   "codemirror_mode": {
    "name": "ipython",
    "version": 3
   },
   "file_extension": ".py",
   "mimetype": "text/x-python",
   "name": "python",
   "nbconvert_exporter": "python",
   "pygments_lexer": "ipython3",
   "version": "3.8.8"
  }
 },
 "nbformat": 4,
 "nbformat_minor": 5
}
